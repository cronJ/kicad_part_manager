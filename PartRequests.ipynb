{
 "metadata": {
  "language_info": {
   "codemirror_mode": {
    "name": "ipython",
    "version": 3
   },
   "file_extension": ".py",
   "mimetype": "text/x-python",
   "name": "python",
   "nbconvert_exporter": "python",
   "pygments_lexer": "ipython3",
   "version": "3.6.2-final"
  },
  "orig_nbformat": 2,
  "kernelspec": {
   "name": "python3",
   "display_name": "Python 3.6.2 64-bit",
   "metadata": {
    "interpreter": {
     "hash": "a5df7cc6a6d20cce75f7591d8a5996c05f7d000c78a07983f0ecc152374cc3c3"
    }
   }
  }
 },
 "nbformat": 4,
 "nbformat_minor": 2,
 "cells": [
  {
   "cell_type": "code",
   "execution_count": 24,
   "metadata": {},
   "outputs": [
    {
     "output_type": "execute_result",
     "data": {
      "text/plain": [
       "<sqlite3.Cursor at 0x18b8a2b6420>"
      ]
     },
     "metadata": {},
     "execution_count": 24
    }
   ],
   "source": [
    "from enum import Enum\n",
    "import sqlite3\n",
    "\n",
    "DATABASE = \"part_request.db\"\n",
    "\n",
    "class Status(Enum):\n",
    "    REQUEST = 1\n",
    "    REQUESTED = 2\n",
    "    MISSING = 3\n",
    "    LIB_MISSING = 4\n",
    "    DONE = 5\n",
    "\n",
    "conn = sqlite3.connect(DATABASE)\n",
    "c = conn.cursor()\n",
    "\n",
    "# Create table if it doesn't exist\n",
    "c.execute(\"CREATE TABLE IF NOT EXISTS parts (part_name TEXT, order_code TEXT, status TEXT)\")\n",
    "\n"
   ]
  },
  {
   "cell_type": "code",
   "execution_count": 21,
   "metadata": {},
   "outputs": [
    {
     "output_type": "stream",
     "name": "stdout",
     "text": [
      "INSERT INTO parts (part_name, order_code, status) VALUES('INA190', 'INA190-ASDF', 'Status.MISSING')\n"
     ]
    }
   ],
   "source": [
    "part_name = \"INA190\"\n",
    "order_code = \"INA190-ASDF\"\n",
    "status = Status.MISSING\n",
    "\n",
    "query = \"INSERT INTO parts (part_name, order_code, status) VALUES('{}', '{}', '{}')\".format(part_name, order_code, status)\n",
    "\n",
    "print(query)\n",
    "\n",
    "c.execute(query)\n",
    "conn.commit()"
   ]
  },
  {
   "cell_type": "code",
   "execution_count": 25,
   "metadata": {},
   "outputs": [
    {
     "output_type": "stream",
     "name": "stdout",
     "text": [
      "(1, 'INA190', 'INA190-ASDF', 'Status.MISSING')\n"
     ]
    }
   ],
   "source": [
    "c.execute(\"SELECT * FROM parts\")\n",
    "\n",
    "for row in c:\n",
    "    print(row)"
   ]
  },
  {
   "cell_type": "code",
   "execution_count": 26,
   "metadata": {},
   "outputs": [],
   "source": [
    "conn.close()"
   ]
  },
  {
   "cell_type": "code",
   "execution_count": null,
   "metadata": {},
   "outputs": [],
   "source": []
  }
 ]
}